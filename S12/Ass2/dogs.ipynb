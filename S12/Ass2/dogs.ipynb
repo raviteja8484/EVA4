{
 "cells": [
  {
   "cell_type": "code",
   "execution_count": 1,
   "metadata": {},
   "outputs": [],
   "source": [
    "import json\n",
    "import pandas as pd\n",
    "\n",
    "with open(\"via_export_coco_dogs.json\",encoding='utf-8', errors='ignore') as json_data:\n",
    "     data = json.load(json_data, strict=False)"
   ]
  },
  {
   "cell_type": "code",
   "execution_count": 2,
   "metadata": {},
   "outputs": [],
   "source": [
    "x = pd.DataFrame.from_dict(data['annotations'])\n",
    "y = pd.DataFrame.from_dict(data['images'])"
   ]
  },
  {
   "cell_type": "code",
   "execution_count": 3,
   "metadata": {},
   "outputs": [
    {
     "data": {
      "text/html": [
       "<div>\n",
       "<style scoped>\n",
       "    .dataframe tbody tr th:only-of-type {\n",
       "        vertical-align: middle;\n",
       "    }\n",
       "\n",
       "    .dataframe tbody tr th {\n",
       "        vertical-align: top;\n",
       "    }\n",
       "\n",
       "    .dataframe thead th {\n",
       "        text-align: right;\n",
       "    }\n",
       "</style>\n",
       "<table border=\"1\" class=\"dataframe\">\n",
       "  <thead>\n",
       "    <tr style=\"text-align: right;\">\n",
       "      <th></th>\n",
       "      <th>area</th>\n",
       "      <th>bbox</th>\n",
       "      <th>id</th>\n",
       "      <th>image_id</th>\n",
       "      <th>iscrowd</th>\n",
       "      <th>segmentation</th>\n",
       "    </tr>\n",
       "  </thead>\n",
       "  <tbody>\n",
       "    <tr>\n",
       "      <th>0</th>\n",
       "      <td>65156</td>\n",
       "      <td>[75, 47, 182, 358]</td>\n",
       "      <td>0</td>\n",
       "      <td>0</td>\n",
       "      <td>0</td>\n",
       "      <td>[75, 47, 257, 47, 257, 405, 75, 405]</td>\n",
       "    </tr>\n",
       "    <tr>\n",
       "      <th>1</th>\n",
       "      <td>117390</td>\n",
       "      <td>[112, 31, 258, 455]</td>\n",
       "      <td>1</td>\n",
       "      <td>1</td>\n",
       "      <td>0</td>\n",
       "      <td>[112, 31, 370, 31, 370, 486, 112, 486]</td>\n",
       "    </tr>\n",
       "    <tr>\n",
       "      <th>2</th>\n",
       "      <td>100100</td>\n",
       "      <td>[3, 62, 260, 385]</td>\n",
       "      <td>2</td>\n",
       "      <td>2</td>\n",
       "      <td>0</td>\n",
       "      <td>[3, 62, 263, 62, 263, 447, 3, 447]</td>\n",
       "    </tr>\n",
       "    <tr>\n",
       "      <th>3</th>\n",
       "      <td>74168</td>\n",
       "      <td>[204, 10, 254, 292]</td>\n",
       "      <td>3</td>\n",
       "      <td>3</td>\n",
       "      <td>0</td>\n",
       "      <td>[204, 10, 458, 10, 458, 302, 204, 302]</td>\n",
       "    </tr>\n",
       "    <tr>\n",
       "      <th>4</th>\n",
       "      <td>115005</td>\n",
       "      <td>[7, 86, 451, 255]</td>\n",
       "      <td>4</td>\n",
       "      <td>4</td>\n",
       "      <td>0</td>\n",
       "      <td>[7, 86, 458, 86, 458, 341, 7, 341]</td>\n",
       "    </tr>\n",
       "  </tbody>\n",
       "</table>\n",
       "</div>"
      ],
      "text/plain": [
       "     area                 bbox  id image_id  iscrowd  \\\n",
       "0   65156   [75, 47, 182, 358]   0        0        0   \n",
       "1  117390  [112, 31, 258, 455]   1        1        0   \n",
       "2  100100    [3, 62, 260, 385]   2        2        0   \n",
       "3   74168  [204, 10, 254, 292]   3        3        0   \n",
       "4  115005    [7, 86, 451, 255]   4        4        0   \n",
       "\n",
       "                             segmentation  \n",
       "0    [75, 47, 257, 47, 257, 405, 75, 405]  \n",
       "1  [112, 31, 370, 31, 370, 486, 112, 486]  \n",
       "2      [3, 62, 263, 62, 263, 447, 3, 447]  \n",
       "3  [204, 10, 458, 10, 458, 302, 204, 302]  \n",
       "4      [7, 86, 458, 86, 458, 341, 7, 341]  "
      ]
     },
     "execution_count": 3,
     "metadata": {},
     "output_type": "execute_result"
    }
   ],
   "source": [
    "x.head()"
   ]
  },
  {
   "cell_type": "code",
   "execution_count": 6,
   "metadata": {},
   "outputs": [],
   "source": [
    "df = y.merge(x, on='id', how='left').drop(columns = ['license','date_captured', 'image_id', 'iscrowd','segmentation','area' ]).rename(columns = {'width':'img_width', 'height':'img_height'})"
   ]
  },
  {
   "cell_type": "code",
   "execution_count": 7,
   "metadata": {},
   "outputs": [],
   "source": [
    "width = []\n",
    "height = []\n",
    "x = []\n",
    "y = []\n",
    "for i in range(0,len(df)):\n",
    "    x.append(df['bbox'][i][0])\n",
    "    y.append(df['bbox'][i][1])\n",
    "    width.append(df['bbox'][i][2])\n",
    "    height.append(df['bbox'][i][3])\n",
    "df['x'], df['y'],df['bbox_width'], df['bbox_height'] = x, y, width, height"
   ]
  },
  {
   "cell_type": "code",
   "execution_count": 8,
   "metadata": {},
   "outputs": [],
   "source": [
    "# Normalizing the  image\n",
    "\n",
    "df['Norm_bbox_width'], df['Norm_bbox_height'] = df['bbox_width']/df['img_width'], df['bbox_height']/df['img_height']\n",
    "\n",
    "df['Norm_x'], df['Norm_y'] = df['x']/df['img_width'], df['y']/df['img_height']"
   ]
  },
  {
   "cell_type": "code",
   "execution_count": 9,
   "metadata": {},
   "outputs": [],
   "source": [
    "new_df = df[['file_name', 'Norm_bbox_width', 'Norm_bbox_height',\n",
    "       'Norm_x', 'Norm_y' ]]"
   ]
  },
  {
   "cell_type": "code",
   "execution_count": 14,
   "metadata": {},
   "outputs": [
    {
     "data": {
      "image/png": "[encoded data removed]",
      "text/plain": [
       "<Figure size 432x288 with 1 Axes>"
      ]
     },
     "metadata": {
      "needs_background": "light"
     },
     "output_type": "display_data"
    }
   ],
   "source": [
    "kmeans_data = new_df.iloc[:,[1,2]].values\n",
    "\n",
    "from sklearn.cluster import KMeans\n",
    "\n",
    "import numpy as np\n",
    "import matplotlib.pyplot as plt\n",
    "import pandas as pd\n",
    "\n",
    "wcss=[]\n",
    "\n",
    "for i in range(1,11):\n",
    "  kmeans = KMeans(n_clusters=i,init='k-means++',max_iter = 300,n_init=10,random_state=0)\n",
    "  kmeans.fit(kmeans_data)\n",
    "  wcss.append(kmeans.inertia_)\n",
    "\n",
    "plt.plot(range(1,11),wcss)\n",
    "plt.xlabel(\"Number of clusters\")\n",
    "plt.ylabel(\"wcss\")\n",
    "plt.title(\"Elbow Method\")\n",
    "plt.show()"
   ]
  },
  {
   "cell_type": "code",
   "execution_count": 11,
   "metadata": {},
   "outputs": [],
   "source": [
    "kmeans=KMeans(n_clusters=2,init='k-means++',max_iter = 300,n_init=10,random_state=0)\n",
    "\n",
    "y_kmeans=kmeans.fit_predict(kmeans_data)"
   ]
  },
  {
   "cell_type": "code",
   "execution_count": 13,
   "metadata": {},
   "outputs": [
    {
     "data": {
      "image/png": "[encoded data removed]",
      "text/plain": [
       "<Figure size 432x288 with 1 Axes>"
      ]
     },
     "metadata": {
      "needs_background": "light"
     },
     "output_type": "display_data"
    }
   ],
   "source": [
    "plt.scatter(kmeans_data[y_kmeans==0, 0], kmeans_data[y_kmeans ==0, 1], s=100, c='green', label = 'Cluster1')\n",
    "plt.scatter(kmeans_data[y_kmeans==1, 0], kmeans_data[y_kmeans ==1, 1], s=100, c='yellow', label = 'Cluster2')\n",
    "plt.scatter(kmeans.cluster_centers_[:, 0], kmeans.cluster_centers_[:, 1], s=300, c='red', label = 'Centroids') \n",
    "plt.title('Cluster of images')\n",
    "plt.xlabel('width')\n",
    "plt.ylabel ('Height')\n",
    "plt.legend()\n",
    "plt.show()"
   ]
  },
  {
   "cell_type": "code",
   "execution_count": null,
   "metadata": {},
   "outputs": [],
   "source": []
  }
 ],
 "metadata": {
  "kernelspec": {
   "display_name": "Python 3",
   "language": "python",
   "name": "python3"
  },
  "language_info": {
   "codemirror_mode": {
    "name": "ipython",
    "version": 3
   },
   "file_extension": ".py",
   "mimetype": "text/x-python",
   "name": "python",
   "nbconvert_exporter": "python",
   "pygments_lexer": "ipython3",
   "version": "3.6.8"
  }
 },
 "nbformat": 4,
 "nbformat_minor": 2
}
