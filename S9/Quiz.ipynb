{
  "nbformat": 4,
  "nbformat_minor": 0,
  "metadata": {
    "colab": {
      "name": "Quiz.ipynb",
      "provenance": []
    },
    "kernelspec": {
      "name": "python3",
      "display_name": "Python 3"
    },
    "accelerator": "GPU"
  },
  "cells": [
    {
      "cell_type": "code",
      "metadata": {
        "id": "xdZxnzFt_rDu",
        "colab_type": "code",
        "colab": {
          "base_uri": "https://localhost:8080/",
          "height": 34
        },
        "outputId": "9261f1a1-0fe8-41be-c387-67d641855a44"
      },
      "source": [
        "from datetime import datetime\n",
        "print(\"Current Date/Time: \", datetime.now())"
      ],
      "execution_count": 1,
      "outputs": [
        {
          "output_type": "stream",
          "text": [
            "Current Date/Time:  2020-03-20 13:10:12.562674\n"
          ],
          "name": "stdout"
        }
      ]
    },
    {
      "cell_type": "code",
      "metadata": {
        "id": "MXgZAr2x_ysz",
        "colab_type": "code",
        "colab": {
          "base_uri": "https://localhost:8080/",
          "height": 224
        },
        "outputId": "5af2a9db-acac-4ad3-e107-5ef520c4a520"
      },
      "source": [
        "!pip install Gudiya==0.1.1.4"
      ],
      "execution_count": 2,
      "outputs": [
        {
          "output_type": "stream",
          "text": [
            "Requirement already satisfied: Gudiya==0.1.1.4 in /usr/local/lib/python3.6/dist-packages (0.1.1.4)\n",
            "Requirement already satisfied: tqdm in /usr/local/lib/python3.6/dist-packages (from Gudiya==0.1.1.4) (4.38.0)\n",
            "Requirement already satisfied: torch in /usr/local/lib/python3.6/dist-packages (from Gudiya==0.1.1.4) (1.4.0)\n",
            "Requirement already satisfied: numpy in /usr/local/lib/python3.6/dist-packages (from Gudiya==0.1.1.4) (1.18.2)\n",
            "Requirement already satisfied: matplotlib in /usr/local/lib/python3.6/dist-packages (from Gudiya==0.1.1.4) (3.2.0)\n",
            "Requirement already satisfied: pyparsing!=2.0.4,!=2.1.2,!=2.1.6,>=2.0.1 in /usr/local/lib/python3.6/dist-packages (from matplotlib->Gudiya==0.1.1.4) (2.4.6)\n",
            "Requirement already satisfied: python-dateutil>=2.1 in /usr/local/lib/python3.6/dist-packages (from matplotlib->Gudiya==0.1.1.4) (2.8.1)\n",
            "Requirement already satisfied: kiwisolver>=1.0.1 in /usr/local/lib/python3.6/dist-packages (from matplotlib->Gudiya==0.1.1.4) (1.1.0)\n",
            "Requirement already satisfied: cycler>=0.10 in /usr/local/lib/python3.6/dist-packages (from matplotlib->Gudiya==0.1.1.4) (0.10.0)\n",
            "Requirement already satisfied: six>=1.5 in /usr/local/lib/python3.6/dist-packages (from python-dateutil>=2.1->matplotlib->Gudiya==0.1.1.4) (1.12.0)\n",
            "Requirement already satisfied: setuptools in /usr/local/lib/python3.6/dist-packages (from kiwisolver>=1.0.1->matplotlib->Gudiya==0.1.1.4) (46.0.0)\n"
          ],
          "name": "stdout"
        }
      ]
    },
    {
      "cell_type": "code",
      "metadata": {
        "id": "CvsNDXP5ABib",
        "colab_type": "code",
        "colab": {}
      },
      "source": [
        "import torchvision\n",
        "import torch\n",
        "import torch.optim as optim\n",
        "import torch.nn as nn\n",
        "import torchvision.transforms as transforms\n",
        "\n",
        "import Gudiya.Model as Md\n",
        "import Gudiya.TrainTestandUtils as Tt"
      ],
      "execution_count": 0,
      "outputs": []
    },
    {
      "cell_type": "code",
      "metadata": {
        "id": "QIbyzEpLB3il",
        "colab_type": "code",
        "colab": {
          "base_uri": "https://localhost:8080/",
          "height": 51
        },
        "outputId": "e15da9e4-cee0-46f1-a962-72f7d3b08663"
      },
      "source": [
        "transform = transforms.Compose(\n",
        "    [ transforms.RandomCrop(32, padding=4),\n",
        "     transforms.RandomHorizontalFlip(),\n",
        "     transforms.ToTensor(),\n",
        "     transforms.Normalize((0.5, 0.5, 0.5), (0.5, 0.5, 0.5))])\n",
        "\n",
        "trainset = torchvision.datasets.CIFAR10(root='./data', train=True,\n",
        "                                        download=True, transform=transform)\n",
        "trainloader = torch.utils.data.DataLoader(trainset, batch_size=128,\n",
        "                                          shuffle=True, num_workers=4)\n",
        "\n",
        "testset = torchvision.datasets.CIFAR10(root='./data', train=False,\n",
        "                                       download=True, transform=transform)\n",
        "testloader = torch.utils.data.DataLoader(testset, batch_size=128,\n",
        "                                         shuffle=False, num_workers=4)\n",
        "\n",
        "classes = ('plane', 'car', 'bird', 'cat',\n",
        "           'deer', 'dog', 'frog', 'horse', 'ship', 'truck')"
      ],
      "execution_count": 4,
      "outputs": [
        {
          "output_type": "stream",
          "text": [
            "Files already downloaded and verified\n",
            "Files already downloaded and verified\n"
          ],
          "name": "stdout"
        }
      ]
    },
    {
      "cell_type": "code",
      "metadata": {
        "id": "HA-OvVlOB-2d",
        "colab_type": "code",
        "colab": {
          "base_uri": "https://localhost:8080/",
          "height": 34
        },
        "outputId": "cb3303d9-8bcf-43cd-a005-189799496ca1"
      },
      "source": [
        "device = torch.device(\"cuda\" if torch.cuda.is_available() else \"cpu\")\n",
        "print (device)"
      ],
      "execution_count": 5,
      "outputs": [
        {
          "output_type": "stream",
          "text": [
            "cuda\n"
          ],
          "name": "stdout"
        }
      ]
    },
    {
      "cell_type": "code",
      "metadata": {
        "id": "BHtWkio1CBQj",
        "colab_type": "code",
        "colab": {}
      },
      "source": [
        "from QuizDNN import QModel"
      ],
      "execution_count": 0,
      "outputs": []
    },
    {
      "cell_type": "code",
      "metadata": {
        "id": "AgonTl6wCPSO",
        "colab_type": "code",
        "colab": {}
      },
      "source": [
        "model = QModel()\n",
        "new_model = model.to(device)\n",
        "criterion = nn.CrossEntropyLoss()\n",
        "optimizer = optim.SGD(model.parameters(), lr=0.001, momentum=0.95,weight_decay=0.0004)\n",
        "scheduler = optim.lr_scheduler.OneCycleLR(optimizer,max_lr=0.1,total_steps=40)"
      ],
      "execution_count": 0,
      "outputs": []
    },
    {
      "cell_type": "code",
      "metadata": {
        "id": "QHuyu0OWCZ-u",
        "colab_type": "code",
        "colab": {}
      },
      "source": [
        "new_model = Tt(model=model,\n",
        "               device=device,\n",
        "               optimizer=optimizer,\n",
        "               criterion=criterion,\n",
        "               scheduler=scheduler,\n",
        "               trainloader=trainloader,\n",
        "               testloader=testloader,\n",
        "               epochs=40,\n",
        "               input_size=(3,32,32),\n",
        "               classes=classes)"
      ],
      "execution_count": 0,
      "outputs": []
    },
    {
      "cell_type": "code",
      "metadata": {
        "id": "TY12PnBDCuat",
        "colab_type": "code",
        "colab": {
          "base_uri": "https://localhost:8080/",
          "height": 1000
        },
        "outputId": "3a68eb8e-3d10-41c3-f99f-666a5cc501a5"
      },
      "source": [
        "new_model.runModel()"
      ],
      "execution_count": 9,
      "outputs": [
        {
          "output_type": "stream",
          "text": [
            "\r  0%|          | 0/391 [00:00<?, ?it/s]"
          ],
          "name": "stderr"
        },
        {
          "output_type": "stream",
          "text": [
            "EPOCH  1\n"
          ],
          "name": "stdout"
        },
        {
          "output_type": "stream",
          "text": [
            "Loss=1.4681576490402222 Batch_id=390 Accuracy=35.59: 100%|██████████| 391/391 [00:18<00:00, 21.52it/s]\n",
            "  0%|          | 0/391 [00:00<?, ?it/s]"
          ],
          "name": "stderr"
        },
        {
          "output_type": "stream",
          "text": [
            "Test set: Average loss: 0.0143, Accuracy: 3557/10000 (35.57%)\n",
            "\n",
            "EPOCH  2\n"
          ],
          "name": "stdout"
        },
        {
          "output_type": "stream",
          "text": [
            "Loss=1.106079339981079 Batch_id=390 Accuracy=52.75: 100%|██████████| 391/391 [00:18<00:00, 21.27it/s]\n",
            "  0%|          | 0/391 [00:00<?, ?it/s]"
          ],
          "name": "stderr"
        },
        {
          "output_type": "stream",
          "text": [
            "Test set: Average loss: 0.0129, Accuracy: 4342/10000 (43.42%)\n",
            "\n",
            "EPOCH  3\n"
          ],
          "name": "stdout"
        },
        {
          "output_type": "stream",
          "text": [
            "Loss=0.8296796679496765 Batch_id=390 Accuracy=60.38: 100%|██████████| 391/391 [00:18<00:00, 21.17it/s]\n",
            "  0%|          | 0/391 [00:00<?, ?it/s]"
          ],
          "name": "stderr"
        },
        {
          "output_type": "stream",
          "text": [
            "Test set: Average loss: 0.0110, Accuracy: 4977/10000 (49.77%)\n",
            "\n",
            "EPOCH  4\n"
          ],
          "name": "stdout"
        },
        {
          "output_type": "stream",
          "text": [
            "Loss=0.9506867527961731 Batch_id=390 Accuracy=64.47: 100%|██████████| 391/391 [00:18<00:00, 21.17it/s]\n",
            "  0%|          | 0/391 [00:00<?, ?it/s]"
          ],
          "name": "stderr"
        },
        {
          "output_type": "stream",
          "text": [
            "Test set: Average loss: 0.0097, Accuracy: 5787/10000 (57.87%)\n",
            "\n",
            "EPOCH  5\n"
          ],
          "name": "stdout"
        },
        {
          "output_type": "stream",
          "text": [
            "Loss=0.8855031728744507 Batch_id=390 Accuracy=67.41: 100%|██████████| 391/391 [00:18<00:00, 21.20it/s]\n",
            "  0%|          | 0/391 [00:00<?, ?it/s]"
          ],
          "name": "stderr"
        },
        {
          "output_type": "stream",
          "text": [
            "Test set: Average loss: 0.0073, Accuracy: 6703/10000 (67.03%)\n",
            "\n",
            "EPOCH  6\n"
          ],
          "name": "stdout"
        },
        {
          "output_type": "stream",
          "text": [
            "Loss=0.7066933512687683 Batch_id=390 Accuracy=71.07: 100%|██████████| 391/391 [00:18<00:00, 21.17it/s]\n",
            "  0%|          | 0/391 [00:00<?, ?it/s]"
          ],
          "name": "stderr"
        },
        {
          "output_type": "stream",
          "text": [
            "Test set: Average loss: 0.0065, Accuracy: 7065/10000 (70.65%)\n",
            "\n",
            "EPOCH  7\n"
          ],
          "name": "stdout"
        },
        {
          "output_type": "stream",
          "text": [
            "Loss=0.8377658128738403 Batch_id=390 Accuracy=72.78: 100%|██████████| 391/391 [00:18<00:00, 21.18it/s]\n",
            "  0%|          | 0/391 [00:00<?, ?it/s]"
          ],
          "name": "stderr"
        },
        {
          "output_type": "stream",
          "text": [
            "Test set: Average loss: 0.0074, Accuracy: 6709/10000 (67.09%)\n",
            "\n",
            "EPOCH  8\n"
          ],
          "name": "stdout"
        },
        {
          "output_type": "stream",
          "text": [
            "Loss=0.8478689193725586 Batch_id=390 Accuracy=74.99: 100%|██████████| 391/391 [00:18<00:00, 21.18it/s]\n",
            "  0%|          | 0/391 [00:00<?, ?it/s]"
          ],
          "name": "stderr"
        },
        {
          "output_type": "stream",
          "text": [
            "Test set: Average loss: 0.0066, Accuracy: 7052/10000 (70.52%)\n",
            "\n",
            "EPOCH  9\n"
          ],
          "name": "stdout"
        },
        {
          "output_type": "stream",
          "text": [
            "Loss=0.8013971447944641 Batch_id=390 Accuracy=75.48: 100%|██████████| 391/391 [00:18<00:00, 21.23it/s]\n",
            "  0%|          | 0/391 [00:00<?, ?it/s]"
          ],
          "name": "stderr"
        },
        {
          "output_type": "stream",
          "text": [
            "Test set: Average loss: 0.0087, Accuracy: 6209/10000 (62.09%)\n",
            "\n",
            "EPOCH  10\n"
          ],
          "name": "stdout"
        },
        {
          "output_type": "stream",
          "text": [
            "Loss=0.5985928773880005 Batch_id=390 Accuracy=76.66: 100%|██████████| 391/391 [00:18<00:00, 21.32it/s]\n",
            "  0%|          | 0/391 [00:00<?, ?it/s]"
          ],
          "name": "stderr"
        },
        {
          "output_type": "stream",
          "text": [
            "Test set: Average loss: 0.0063, Accuracy: 7217/10000 (72.17%)\n",
            "\n",
            "EPOCH  11\n"
          ],
          "name": "stdout"
        },
        {
          "output_type": "stream",
          "text": [
            "Loss=0.5747843980789185 Batch_id=390 Accuracy=77.13: 100%|██████████| 391/391 [00:18<00:00, 21.09it/s]\n",
            "  0%|          | 0/391 [00:00<?, ?it/s]"
          ],
          "name": "stderr"
        },
        {
          "output_type": "stream",
          "text": [
            "Test set: Average loss: 0.0062, Accuracy: 7282/10000 (72.82%)\n",
            "\n",
            "EPOCH  12\n"
          ],
          "name": "stdout"
        },
        {
          "output_type": "stream",
          "text": [
            "Loss=0.7176112532615662 Batch_id=390 Accuracy=78.10: 100%|██████████| 391/391 [00:18<00:00, 21.20it/s]\n",
            "  0%|          | 0/391 [00:00<?, ?it/s]"
          ],
          "name": "stderr"
        },
        {
          "output_type": "stream",
          "text": [
            "Test set: Average loss: 0.0062, Accuracy: 7302/10000 (73.02%)\n",
            "\n",
            "EPOCH  13\n"
          ],
          "name": "stdout"
        },
        {
          "output_type": "stream",
          "text": [
            "Loss=0.8017778396606445 Batch_id=390 Accuracy=78.64: 100%|██████████| 391/391 [00:18<00:00, 21.05it/s]\n",
            "  0%|          | 0/391 [00:00<?, ?it/s]"
          ],
          "name": "stderr"
        },
        {
          "output_type": "stream",
          "text": [
            "Test set: Average loss: 0.0070, Accuracy: 7023/10000 (70.23%)\n",
            "\n",
            "EPOCH  14\n"
          ],
          "name": "stdout"
        },
        {
          "output_type": "stream",
          "text": [
            "Loss=0.5119466781616211 Batch_id=390 Accuracy=78.89: 100%|██████████| 391/391 [00:18<00:00, 20.97it/s]\n",
            "  0%|          | 0/391 [00:00<?, ?it/s]"
          ],
          "name": "stderr"
        },
        {
          "output_type": "stream",
          "text": [
            "Test set: Average loss: 0.0060, Accuracy: 7418/10000 (74.18%)\n",
            "\n",
            "EPOCH  15\n"
          ],
          "name": "stdout"
        },
        {
          "output_type": "stream",
          "text": [
            "Loss=0.5878076553344727 Batch_id=390 Accuracy=79.25: 100%|██████████| 391/391 [00:18<00:00, 21.27it/s]\n",
            "  0%|          | 0/391 [00:00<?, ?it/s]"
          ],
          "name": "stderr"
        },
        {
          "output_type": "stream",
          "text": [
            "Test set: Average loss: 0.0066, Accuracy: 7115/10000 (71.15%)\n",
            "\n",
            "EPOCH  16\n"
          ],
          "name": "stdout"
        },
        {
          "output_type": "stream",
          "text": [
            "Loss=0.7140370607376099 Batch_id=390 Accuracy=79.68: 100%|██████████| 391/391 [00:18<00:00, 21.27it/s]\n",
            "  0%|          | 0/391 [00:00<?, ?it/s]"
          ],
          "name": "stderr"
        },
        {
          "output_type": "stream",
          "text": [
            "Test set: Average loss: 0.0060, Accuracy: 7352/10000 (73.52%)\n",
            "\n",
            "EPOCH  17\n"
          ],
          "name": "stdout"
        },
        {
          "output_type": "stream",
          "text": [
            "Loss=0.6588033437728882 Batch_id=390 Accuracy=80.16: 100%|██████████| 391/391 [00:19<00:00, 20.54it/s]\n",
            "  0%|          | 0/391 [00:00<?, ?it/s]"
          ],
          "name": "stderr"
        },
        {
          "output_type": "stream",
          "text": [
            "Test set: Average loss: 0.0062, Accuracy: 7390/10000 (73.90%)\n",
            "\n",
            "EPOCH  18\n"
          ],
          "name": "stdout"
        },
        {
          "output_type": "stream",
          "text": [
            "Loss=0.4227287769317627 Batch_id=390 Accuracy=80.11: 100%|██████████| 391/391 [00:19<00:00, 20.41it/s]\n",
            "  0%|          | 0/391 [00:00<?, ?it/s]"
          ],
          "name": "stderr"
        },
        {
          "output_type": "stream",
          "text": [
            "Test set: Average loss: 0.0053, Accuracy: 7684/10000 (76.84%)\n",
            "\n",
            "EPOCH  19\n"
          ],
          "name": "stdout"
        },
        {
          "output_type": "stream",
          "text": [
            "Loss=0.526014506816864 Batch_id=390 Accuracy=80.60: 100%|██████████| 391/391 [00:19<00:00, 20.42it/s]\n",
            "  0%|          | 0/391 [00:00<?, ?it/s]"
          ],
          "name": "stderr"
        },
        {
          "output_type": "stream",
          "text": [
            "Test set: Average loss: 0.0056, Accuracy: 7583/10000 (75.83%)\n",
            "\n",
            "EPOCH  20\n"
          ],
          "name": "stdout"
        },
        {
          "output_type": "stream",
          "text": [
            "Loss=0.5976191759109497 Batch_id=390 Accuracy=81.12: 100%|██████████| 391/391 [00:19<00:00, 20.57it/s]\n",
            "  0%|          | 0/391 [00:00<?, ?it/s]"
          ],
          "name": "stderr"
        },
        {
          "output_type": "stream",
          "text": [
            "Test set: Average loss: 0.0059, Accuracy: 7474/10000 (74.74%)\n",
            "\n",
            "EPOCH  21\n"
          ],
          "name": "stdout"
        },
        {
          "output_type": "stream",
          "text": [
            "Loss=0.49237799644470215 Batch_id=390 Accuracy=81.02: 100%|██████████| 391/391 [00:19<00:00, 20.41it/s]\n",
            "  0%|          | 0/391 [00:00<?, ?it/s]"
          ],
          "name": "stderr"
        },
        {
          "output_type": "stream",
          "text": [
            "Test set: Average loss: 0.0050, Accuracy: 7804/10000 (78.04%)\n",
            "\n",
            "EPOCH  22\n"
          ],
          "name": "stdout"
        },
        {
          "output_type": "stream",
          "text": [
            "Loss=0.4356003403663635 Batch_id=390 Accuracy=81.06: 100%|██████████| 391/391 [00:19<00:00, 20.38it/s]\n",
            "  0%|          | 0/391 [00:00<?, ?it/s]"
          ],
          "name": "stderr"
        },
        {
          "output_type": "stream",
          "text": [
            "Test set: Average loss: 0.0062, Accuracy: 7191/10000 (71.91%)\n",
            "\n",
            "EPOCH  23\n"
          ],
          "name": "stdout"
        },
        {
          "output_type": "stream",
          "text": [
            "Loss=0.548017144203186 Batch_id=390 Accuracy=81.67: 100%|██████████| 391/391 [00:19<00:00, 20.50it/s]\n",
            "  0%|          | 0/391 [00:00<?, ?it/s]"
          ],
          "name": "stderr"
        },
        {
          "output_type": "stream",
          "text": [
            "Test set: Average loss: 0.0044, Accuracy: 8076/10000 (80.76%)\n",
            "\n",
            "EPOCH  24\n"
          ],
          "name": "stdout"
        },
        {
          "output_type": "stream",
          "text": [
            "Loss=0.5395533442497253 Batch_id=390 Accuracy=82.01: 100%|██████████| 391/391 [00:19<00:00, 20.48it/s]\n",
            "  0%|          | 0/391 [00:00<?, ?it/s]"
          ],
          "name": "stderr"
        },
        {
          "output_type": "stream",
          "text": [
            "Test set: Average loss: 0.0047, Accuracy: 7961/10000 (79.61%)\n",
            "\n",
            "EPOCH  25\n"
          ],
          "name": "stdout"
        },
        {
          "output_type": "stream",
          "text": [
            "Loss=0.5942071080207825 Batch_id=390 Accuracy=82.51: 100%|██████████| 391/391 [00:19<00:00, 20.48it/s]\n",
            "  0%|          | 0/391 [00:00<?, ?it/s]"
          ],
          "name": "stderr"
        },
        {
          "output_type": "stream",
          "text": [
            "Test set: Average loss: 0.0042, Accuracy: 8217/10000 (82.17%)\n",
            "\n",
            "EPOCH  26\n"
          ],
          "name": "stdout"
        },
        {
          "output_type": "stream",
          "text": [
            "Loss=0.7175561189651489 Batch_id=390 Accuracy=82.95: 100%|██████████| 391/391 [00:18<00:00, 20.58it/s]\n",
            "  0%|          | 0/391 [00:00<?, ?it/s]"
          ],
          "name": "stderr"
        },
        {
          "output_type": "stream",
          "text": [
            "Test set: Average loss: 0.0041, Accuracy: 8248/10000 (82.48%)\n",
            "\n",
            "EPOCH  27\n"
          ],
          "name": "stdout"
        },
        {
          "output_type": "stream",
          "text": [
            "Loss=0.561527669429779 Batch_id=390 Accuracy=83.08: 100%|██████████| 391/391 [00:18<00:00, 20.77it/s]\n",
            "  0%|          | 0/391 [00:00<?, ?it/s]"
          ],
          "name": "stderr"
        },
        {
          "output_type": "stream",
          "text": [
            "Test set: Average loss: 0.0045, Accuracy: 8067/10000 (80.67%)\n",
            "\n",
            "EPOCH  28\n"
          ],
          "name": "stdout"
        },
        {
          "output_type": "stream",
          "text": [
            "Loss=0.5298417806625366 Batch_id=390 Accuracy=83.46: 100%|██████████| 391/391 [00:18<00:00, 20.92it/s]\n",
            "  0%|          | 0/391 [00:00<?, ?it/s]"
          ],
          "name": "stderr"
        },
        {
          "output_type": "stream",
          "text": [
            "Test set: Average loss: 0.0049, Accuracy: 7853/10000 (78.53%)\n",
            "\n",
            "EPOCH  29\n"
          ],
          "name": "stdout"
        },
        {
          "output_type": "stream",
          "text": [
            "Loss=0.3785485029220581 Batch_id=390 Accuracy=83.91: 100%|██████████| 391/391 [00:18<00:00, 20.97it/s]\n",
            "  0%|          | 0/391 [00:00<?, ?it/s]"
          ],
          "name": "stderr"
        },
        {
          "output_type": "stream",
          "text": [
            "Test set: Average loss: 0.0041, Accuracy: 8195/10000 (81.95%)\n",
            "\n",
            "EPOCH  30\n"
          ],
          "name": "stdout"
        },
        {
          "output_type": "stream",
          "text": [
            "Loss=0.391326904296875 Batch_id=390 Accuracy=84.44: 100%|██████████| 391/391 [00:18<00:00, 21.05it/s]\n",
            "  0%|          | 0/391 [00:00<?, ?it/s]"
          ],
          "name": "stderr"
        },
        {
          "output_type": "stream",
          "text": [
            "Test set: Average loss: 0.0044, Accuracy: 8041/10000 (80.41%)\n",
            "\n",
            "EPOCH  31\n"
          ],
          "name": "stdout"
        },
        {
          "output_type": "stream",
          "text": [
            "Loss=0.3891398310661316 Batch_id=390 Accuracy=84.76: 100%|██████████| 391/391 [00:18<00:00, 21.28it/s]\n",
            "  0%|          | 0/391 [00:00<?, ?it/s]"
          ],
          "name": "stderr"
        },
        {
          "output_type": "stream",
          "text": [
            "Test set: Average loss: 0.0038, Accuracy: 8347/10000 (83.47%)\n",
            "\n",
            "EPOCH  32\n"
          ],
          "name": "stdout"
        },
        {
          "output_type": "stream",
          "text": [
            "Loss=0.33874455094337463 Batch_id=390 Accuracy=85.43: 100%|██████████| 391/391 [00:19<00:00, 20.56it/s]\n",
            "  0%|          | 0/391 [00:00<?, ?it/s]"
          ],
          "name": "stderr"
        },
        {
          "output_type": "stream",
          "text": [
            "Test set: Average loss: 0.0037, Accuracy: 8379/10000 (83.79%)\n",
            "\n",
            "EPOCH  33\n"
          ],
          "name": "stdout"
        },
        {
          "output_type": "stream",
          "text": [
            "Loss=0.6192722916603088 Batch_id=390 Accuracy=86.47: 100%|██████████| 391/391 [00:19<00:00, 19.96it/s]\n",
            "  0%|          | 0/391 [00:00<?, ?it/s]"
          ],
          "name": "stderr"
        },
        {
          "output_type": "stream",
          "text": [
            "Test set: Average loss: 0.0035, Accuracy: 8470/10000 (84.70%)\n",
            "\n",
            "EPOCH  34\n"
          ],
          "name": "stdout"
        },
        {
          "output_type": "stream",
          "text": [
            "Loss=0.32399800419807434 Batch_id=390 Accuracy=87.15: 100%|██████████| 391/391 [00:19<00:00, 19.90it/s]\n",
            "  0%|          | 0/391 [00:00<?, ?it/s]"
          ],
          "name": "stderr"
        },
        {
          "output_type": "stream",
          "text": [
            "Test set: Average loss: 0.0036, Accuracy: 8452/10000 (84.52%)\n",
            "\n",
            "EPOCH  35\n"
          ],
          "name": "stdout"
        },
        {
          "output_type": "stream",
          "text": [
            "Loss=0.5361305475234985 Batch_id=390 Accuracy=87.67: 100%|██████████| 391/391 [00:18<00:00, 20.89it/s]\n",
            "  0%|          | 0/391 [00:00<?, ?it/s]"
          ],
          "name": "stderr"
        },
        {
          "output_type": "stream",
          "text": [
            "Test set: Average loss: 0.0032, Accuracy: 8598/10000 (85.98%)\n",
            "\n",
            "EPOCH  36\n"
          ],
          "name": "stdout"
        },
        {
          "output_type": "stream",
          "text": [
            "Loss=0.28920966386795044 Batch_id=390 Accuracy=88.65: 100%|██████████| 391/391 [00:18<00:00, 21.04it/s]\n",
            "  0%|          | 0/391 [00:00<?, ?it/s]"
          ],
          "name": "stderr"
        },
        {
          "output_type": "stream",
          "text": [
            "Test set: Average loss: 0.0034, Accuracy: 8544/10000 (85.44%)\n",
            "\n",
            "EPOCH  37\n"
          ],
          "name": "stdout"
        },
        {
          "output_type": "stream",
          "text": [
            "Loss=0.4165080487728119 Batch_id=390 Accuracy=89.34: 100%|██████████| 391/391 [00:18<00:00, 21.00it/s]\n",
            "  0%|          | 0/391 [00:00<?, ?it/s]"
          ],
          "name": "stderr"
        },
        {
          "output_type": "stream",
          "text": [
            "Test set: Average loss: 0.0031, Accuracy: 8653/10000 (86.53%)\n",
            "\n",
            "EPOCH  38\n"
          ],
          "name": "stdout"
        },
        {
          "output_type": "stream",
          "text": [
            "Loss=0.38800233602523804 Batch_id=390 Accuracy=89.90: 100%|██████████| 391/391 [00:18<00:00, 20.96it/s]\n",
            "  0%|          | 0/391 [00:00<?, ?it/s]"
          ],
          "name": "stderr"
        },
        {
          "output_type": "stream",
          "text": [
            "Test set: Average loss: 0.0029, Accuracy: 8688/10000 (86.88%)\n",
            "\n",
            "EPOCH  39\n"
          ],
          "name": "stdout"
        },
        {
          "output_type": "stream",
          "text": [
            "Loss=0.3051736056804657 Batch_id=390 Accuracy=90.20: 100%|██████████| 391/391 [00:18<00:00, 21.21it/s]\n",
            "  0%|          | 0/391 [00:00<?, ?it/s]"
          ],
          "name": "stderr"
        },
        {
          "output_type": "stream",
          "text": [
            "Test set: Average loss: 0.0030, Accuracy: 8655/10000 (86.55%)\n",
            "\n",
            "EPOCH  40\n"
          ],
          "name": "stdout"
        },
        {
          "output_type": "stream",
          "text": [
            "Loss=0.26259857416152954 Batch_id=390 Accuracy=90.41: 100%|██████████| 391/391 [00:18<00:00, 21.39it/s]\n"
          ],
          "name": "stderr"
        },
        {
          "output_type": "stream",
          "text": [
            "Test set: Average loss: 0.0030, Accuracy: 8700/10000 (87.00%)\n",
            "\n"
          ],
          "name": "stdout"
        }
      ]
    },
    {
      "cell_type": "code",
      "metadata": {
        "id": "6PYvGAU4DfLs",
        "colab_type": "code",
        "colab": {}
      },
      "source": [
        ""
      ],
      "execution_count": 0,
      "outputs": []
    }
  ]
}