{
  "nbformat": 4,
  "nbformat_minor": 0,
  "metadata": {
    "colab": {
      "name": "Depth Model.ipynb",
      "provenance": [],
      "collapsed_sections": []
    },
    "kernelspec": {
      "name": "python3",
      "display_name": "Python 3"
    },
    "accelerator": "GPU"
  },
  "cells": [
    {
      "cell_type": "code",
      "metadata": {
        "id": "4iSabeqtuPS-",
        "colab_type": "code",
        "colab": {}
      },
      "source": [
        ""
      ],
      "execution_count": 0,
      "outputs": []
    },
    {
      "cell_type": "code",
      "metadata": {
        "id": "uN7LisLTq1Si",
        "colab_type": "code",
        "colab": {}
      },
      "source": [
        "!unzip -q \"/content/drive/My Drive/data.zip\""
      ],
      "execution_count": 0,
      "outputs": []
    },
    {
      "cell_type": "code",
      "metadata": {
        "id": "lhno-m5guQ0S",
        "colab_type": "code",
        "colab": {
          "base_uri": "https://localhost:8080/",
          "height": 139
        },
        "outputId": "29b40b16-d2ef-4920-b934-7c67bda36f6e"
      },
      "source": [
        "!git clone https://github.com/ialhashim/DenseDepth.git"
      ],
      "execution_count": 3,
      "outputs": [
        {
          "output_type": "stream",
          "text": [
            "Cloning into 'DenseDepth'...\n",
            "remote: Enumerating objects: 4, done.\u001b[K\n",
            "remote: Counting objects:  25% (1/4)\u001b[K\rremote: Counting objects:  50% (2/4)\u001b[K\rremote: Counting objects:  75% (3/4)\u001b[K\rremote: Counting objects: 100% (4/4)\u001b[K\rremote: Counting objects: 100% (4/4), done.\u001b[K\n",
            "remote: Compressing objects: 100% (4/4), done.\u001b[K\n",
            "remote: Total 235 (delta 0), reused 1 (delta 0), pack-reused 231\u001b[K\n",
            "Receiving objects: 100% (235/235), 11.80 MiB | 14.63 MiB/s, done.\n",
            "Resolving deltas: 100% (113/113), done.\n"
          ],
          "name": "stdout"
        }
      ]
    },
    {
      "cell_type": "code",
      "metadata": {
        "id": "q7JMlbYaueZN",
        "colab_type": "code",
        "colab": {
          "base_uri": "https://localhost:8080/",
          "height": 208
        },
        "outputId": "e4b3ba22-d5cd-4c02-fa64-47ee25bdeded"
      },
      "source": [
        "!wget https://s3-eu-west-1.amazonaws.com/densedepth/nyu.h5 -O ./DenseDepth/nyu.h5"
      ],
      "execution_count": 4,
      "outputs": [
        {
          "output_type": "stream",
          "text": [
            "--2020-05-03 10:07:50--  https://s3-eu-west-1.amazonaws.com/densedepth/nyu.h5\n",
            "Resolving s3-eu-west-1.amazonaws.com (s3-eu-west-1.amazonaws.com)... 52.218.96.122\n",
            "Connecting to s3-eu-west-1.amazonaws.com (s3-eu-west-1.amazonaws.com)|52.218.96.122|:443... connected.\n",
            "HTTP request sent, awaiting response... 200 OK\n",
            "Length: 172897376 (165M) [application/h5]\n",
            "Saving to: ‘./DenseDepth/nyu.h5’\n",
            "\n",
            "./DenseDepth/nyu.h5 100%[===================>] 164.89M  89.7MB/s    in 1.8s    \n",
            "\n",
            "2020-05-03 10:07:52 (89.7 MB/s) - ‘./DenseDepth/nyu.h5’ saved [172897376/172897376]\n",
            "\n"
          ],
          "name": "stdout"
        }
      ]
    },
    {
      "cell_type": "code",
      "metadata": {
        "id": "vR4Qp0YPunb-",
        "colab_type": "code",
        "colab": {
          "base_uri": "https://localhost:8080/",
          "height": 35
        },
        "outputId": "d6524052-7449-45c9-ce17-cd18a584ae5a"
      },
      "source": [
        "import os\n",
        "import glob\n",
        "import argparse\n",
        "import matplotlib\n",
        "import cv2\n",
        "from PIL import Image\n",
        "import numpy as np\n",
        "\n",
        "# Keras / TensorFlow\n",
        "os.environ['TF_CPP_MIN_LOG_LEVEL'] = '5'\n",
        "from keras.models import load_model\n",
        "from DenseDepth.layers import BilinearUpSampling2D\n",
        "from DenseDepth.utils import predict, display_images, save_images\n",
        "from matplotlib import pyplot as plt"
      ],
      "execution_count": 1,
      "outputs": [
        {
          "output_type": "stream",
          "text": [
            "Using TensorFlow backend.\n"
          ],
          "name": "stderr"
        }
      ]
    },
    {
      "cell_type": "code",
      "metadata": {
        "id": "Hj4yIE0_xOyz",
        "colab_type": "code",
        "colab": {}
      },
      "source": [
        "def load_images(image_files):\n",
        "    loaded_images = []\n",
        "    for file in image_files:\n",
        "        x = np.clip(np.asarray(Image.open( file ).resize((448, 448), Image.BICUBIC), dtype=float) / 255, 0, 1) \n",
        "        loaded_images.append(x)\n",
        "    return np.stack(loaded_images, axis=0)"
      ],
      "execution_count": 0,
      "outputs": []
    },
    {
      "cell_type": "code",
      "metadata": {
        "id": "3xG6JMXeugZg",
        "colab_type": "code",
        "colab": {
          "base_uri": "https://localhost:8080/",
          "height": 69
        },
        "outputId": "45df8062-23be-4c45-cb81-5a05597a892e"
      },
      "source": [
        "# Custom object needed for inference and training\n",
        "custom_objects = {'BilinearUpSampling2D': BilinearUpSampling2D, 'depth_loss_function': None}\n",
        "\n",
        "print('Loading model...')\n",
        "\n",
        "# Load model into GPU / CPU\n",
        "model = load_model('/content/DenseDepth/nyu.h5', custom_objects=custom_objects, compile=False)\n",
        "\n",
        "print('\\nModel loaded ({0}).'.format('/content/DenseDepth/nyu.h5'))"
      ],
      "execution_count": 4,
      "outputs": [
        {
          "output_type": "stream",
          "text": [
            "Loading model...\n",
            "\n",
            "Model loaded (/content/DenseDepth/nyu.h5).\n"
          ],
          "name": "stdout"
        }
      ]
    },
    {
      "cell_type": "code",
      "metadata": {
        "id": "nAU1PMlkvLWV",
        "colab_type": "code",
        "colab": {
          "base_uri": "https://localhost:8080/",
          "height": 35
        },
        "outputId": "6ed4aaea-2b20-475e-ddca-15787683522a"
      },
      "source": [
        "source = '/content/data/fg_bg/'\n",
        "destination = '/content/fg_bg_depth/'\n",
        "\n",
        "os.mkdir(destination)\n",
        "\n",
        "source_folders = sorted(glob.glob(source+'*'))\n",
        "\n",
        "for source_folder in source_folders:\n",
        "\n",
        "  folder_name = source_folder.split('/')[-1]+'/'\n",
        "  os.mkdir(destination+folder_name)\n",
        "  print(\"Processing \"+folder_name+\"...\")\n",
        "\n",
        "  image_paths = sorted(glob.glob(source_folder+'/*'))\n",
        "\n",
        "  for i in range(8):\n",
        "    x = 500*i\n",
        "    y = 500*(i+1)\n",
        "    inputs = load_images(image_paths[x:y] )\n",
        "    outputs = predict(model, inputs)\n",
        "\n",
        "    for j in range(x, y):\n",
        "      img_name = image_paths[j].split('/')[-1]\n",
        "      plt.imsave(destination+folder_name+img_name, outputs[j%500][:,:,0], cmap = 'gray')"
      ],
      "execution_count": 0,
      "outputs": [
        {
          "output_type": "stream",
          "text": [
            "Processing bg_001/...\n"
          ],
          "name": "stdout"
        }
      ]
    },
    {
      "cell_type": "code",
      "metadata": {
        "id": "QV-aomJWBBB2",
        "colab_type": "code",
        "colab": {}
      },
      "source": [
        "# !rm -r '/content/fg_bg_depth'"
      ],
      "execution_count": 0,
      "outputs": []
    },
    {
      "cell_type": "code",
      "metadata": {
        "id": "u28izxoy-KJk",
        "colab_type": "code",
        "colab": {}
      },
      "source": [
        "!zip -r '/content/drive/My Drive/fg_bg_depth.zip' 'fg_bg_depth'"
      ],
      "execution_count": 0,
      "outputs": []
    }
  ]
}
