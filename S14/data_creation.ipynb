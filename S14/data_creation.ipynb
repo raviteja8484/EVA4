{
 "cells": [
  {
   "cell_type": "code",
   "execution_count": 50,
   "metadata": {},
   "outputs": [],
   "source": [
    "import random\n",
    "import numpy as np\n",
    "import cv2\n",
    "import glob\n",
    "import os"
   ]
  },
  {
   "cell_type": "code",
   "execution_count": 78,
   "metadata": {},
   "outputs": [],
   "source": [
    "def generate_overlay(background, foreground, x, y):\n",
    "\n",
    "    background_width = background.shape[1]\n",
    "    background_height = background.shape[0]\n",
    "\n",
    "    h, w = foreground.shape[0], foreground.shape[1]\n",
    "\n",
    "    foreground_image = foreground[..., :3]\n",
    "    mask = (foreground[..., 3:]!=0)*1\n",
    "\n",
    "    background[y:y+h, x:x+w] = (1.0 - mask) * background[y:y+h, x:x+w] + mask * foreground_image\n",
    "\n",
    "    return background"
   ]
  },
  {
   "cell_type": "code",
   "execution_count": 83,
   "metadata": {},
   "outputs": [],
   "source": [
    "def generate_mask(background, foreground, x, y):\n",
    "\n",
    "    background_width = background.shape[1]\n",
    "    background_height = background.shape[0]\n",
    "\n",
    "    h, w = foreground.shape[0], foreground.shape[1]\n",
    "\n",
    "    foreground_image = (foreground[..., 3]!=0)*255\n",
    "    mask = (foreground[..., 3]!=0)*1\n",
    "\n",
    "    background[y:y+h, x:x+w] = (1.0 - mask) * background[y:y+h, x:x+w] + mask * foreground_image\n",
    "\n",
    "    return background"
   ]
  },
  {
   "cell_type": "code",
   "execution_count": 53,
   "metadata": {},
   "outputs": [],
   "source": [
    "def generate_xy(foreground, background):\n",
    "    bg_w = background.shape[1]\n",
    "    bg_h = background.shape[0]\n",
    "    fg_w = foreground.shape[1]\n",
    "    fg_h = foreground.shape[0]\n",
    "    x_max = bg_w - fg_w\n",
    "    y_max = bg_h - fg_h\n",
    "    x = random.sample(range(0,x_max), 40)\n",
    "    y = random.sample(range(0,y_max), 40)\n",
    "    return x, y"
   ]
  },
  {
   "cell_type": "code",
   "execution_count": 54,
   "metadata": {},
   "outputs": [],
   "source": [
    "def foreground_resize(height, foreground):\n",
    "    width = int(foreground.shape[1] * height / foreground.shape[0])\n",
    "    # dsize\n",
    "    dsize = (width, height)\n",
    "    # resize image\n",
    "    output = cv2.resize(foreground, dsize)\n",
    "    return output"
   ]
  },
  {
   "cell_type": "code",
   "execution_count": 87,
   "metadata": {},
   "outputs": [],
   "source": [
    "overlay_folder = './fg_bg/'\n",
    "mask_folder = './fg_bg_mask/'\n",
    "background_folder = './bg/'\n",
    "foreground_folder = './fg/'"
   ]
  },
  {
   "cell_type": "code",
   "execution_count": null,
   "metadata": {},
   "outputs": [],
   "source": [
    "os.mkdir(overlay_folder)\n",
    "os.mkdir(mask_folder)"
   ]
  },
  {
   "cell_type": "code",
   "execution_count": 88,
   "metadata": {},
   "outputs": [],
   "source": [
    "background_paths = glob.glob(background_folder+'*')\n",
    "foreground_paths = glob.glob(foreground_folder+'*')\n",
    "\n",
    "\n",
    "for bg_path in background_paths[:1]: #<-- remove [:1] for creating the entire 400k images\n",
    "    \n",
    "    #creating folders corresponding to background\n",
    "    bg_folder_name = (bg_path.split('/')[-1].split('\\\\')[-1].split('.')[0])+'/'\n",
    "    os.mkdir(str(overlay_folder+bg_folder_name))\n",
    "    os.mkdir(str(mask_folder+bg_folder_name))\n",
    "    \n",
    "    #reading background image\n",
    "    background_image = cv2.imread(bg_path)\n",
    "    img_counter = 1\n",
    "    \n",
    "    #looping over all the foreground images\n",
    "    for fg_path in foreground_paths:\n",
    "        \n",
    "        #reading foreground image\n",
    "        foreground_image_temp = cv2.imread(fg_path, cv2.IMREAD_UNCHANGED)\n",
    "        \n",
    "        #resizing foreground image\n",
    "        foreground_image = foreground_resize(105, foreground_image_temp.copy())\n",
    "        \n",
    "        #generating 40 random positions to place foreground\n",
    "        x, y =  generate_xy(foreground_image, background_image)\n",
    "        \n",
    "        #overlaying 20 foreground\n",
    "        for i in range(20):\n",
    "            \n",
    "            #creating copies to process\n",
    "            bg_image = background_image.copy()\n",
    "            fg_image = foreground_image.copy()\n",
    "            \n",
    "            #creting black background for mask\n",
    "            bg_black = np.zeros((224, 224), dtype = \"uint8\") \n",
    "            \n",
    "            overlaid_image = generate_overlay(bg_image, fg_image, x[i], y[i])\n",
    "            mask_image = generate_mask(bg_black, fg_image, x[i], y[i])\n",
    "            \n",
    "            #saving overlaid and mask images\n",
    "            cv2.imwrite(overlay_folder+bg_folder_name+\"img_{0:04}.jpg\".format(img_counter), overlaid_image)\n",
    "            cv2.imwrite(mask_folder+bg_folder_name+\"img_{0:04}.jpg\".format(img_counter), mask_image)\n",
    "            \n",
    "            #increment the image counter\n",
    "            img_counter+=1\n",
    "            \n",
    "            \n",
    "        #overlaying 20 flipped foreground\n",
    "        for i in range(20, 40):\n",
    "            \n",
    "            #creating copies to process\n",
    "            bg_image = background_image.copy()\n",
    "            fg_image = cv2.flip(foreground_image, 1) #flipping foreground image\n",
    "            \n",
    "            #creting black background for mask\n",
    "            bg_black = np.zeros((224, 224), dtype = \"uint8\") \n",
    "            \n",
    "            overlaid_image = generate_overlay(bg_image, fg_image, x[i], y[i])\n",
    "            mask_image = generate_mask(bg_black, fg_image, x[i], y[i])\n",
    "            \n",
    "            #saving overlaid and mask images\n",
    "            cv2.imwrite(overlay_folder+bg_folder_name+\"img_{0:04}.jpg\".format(img_counter), overlaid_image)\n",
    "            cv2.imwrite(mask_folder+bg_folder_name+\"img_{0:04}.jpg\".format(img_counter), mask_image)\n",
    "            \n",
    "            #increment the image counter\n",
    "            img_counter+=1"
   ]
  }
 ],
 "metadata": {
  "kernelspec": {
   "display_name": "Python 3",
   "language": "python",
   "name": "python3"
  },
  "language_info": {
   "codemirror_mode": {
    "name": "ipython",
    "version": 3
   },
   "file_extension": ".py",
   "mimetype": "text/x-python",
   "name": "python",
   "nbconvert_exporter": "python",
   "pygments_lexer": "ipython3",
   "version": "3.7.4"
  }
 },
 "nbformat": 4,
 "nbformat_minor": 2
}
