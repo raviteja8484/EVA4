{
  "nbformat": 4,
  "nbformat_minor": 0,
  "metadata": {
    "colab": {
      "name": "Calculation.ipynb",
      "provenance": []
    },
    "kernelspec": {
      "name": "python3",
      "display_name": "Python 3"
    },
    "accelerator": "GPU"
  },
  "cells": [
    {
      "cell_type": "code",
      "metadata": {
        "id": "xoGg80_4--EY",
        "colab_type": "code",
        "colab": {}
      },
      "source": [
        "import torch\n",
        "import torchvision\n",
        "from tqdm import tqdm\n",
        "\n"
      ],
      "execution_count": 0,
      "outputs": []
    },
    {
      "cell_type": "code",
      "metadata": {
        "id": "-34PS_5cIFl9",
        "colab_type": "code",
        "colab": {
          "base_uri": "https://localhost:8080/",
          "height": 34
        },
        "outputId": "d01c80b0-bdf5-4089-d53c-2c0d69c3b303"
      },
      "source": [
        "%cd /content/\n",
        "!mkdir BG_FG_mask\n"
      ],
      "execution_count": 33,
      "outputs": [
        {
          "output_type": "stream",
          "text": [
            "/content\n"
          ],
          "name": "stdout"
        }
      ]
    },
    {
      "cell_type": "code",
      "metadata": {
        "id": "_uVrW7R9SV2k",
        "colab_type": "code",
        "colab": {}
      },
      "source": [
        "%rm -r /content/BG_FG/"
      ],
      "execution_count": 0,
      "outputs": []
    },
    {
      "cell_type": "code",
      "metadata": {
        "id": "egbntyu1Gpl4",
        "colab_type": "code",
        "colab": {}
      },
      "source": [
        "!unzip -q '/content/drive/My Drive/files/bg_fg.zip' -d /content/BG_FG"
      ],
      "execution_count": 0,
      "outputs": []
    },
    {
      "cell_type": "code",
      "metadata": {
        "id": "b8tGmLXuKMPh",
        "colab_type": "code",
        "colab": {
          "base_uri": "https://localhost:8080/",
          "height": 34
        },
        "outputId": "abdb6840-58be-4d25-dfa3-3575a4f73468"
      },
      "source": [
        "import glob\n",
        "import os\n",
        "\n",
        "inputFolder= '/content/BG_FG/bg'\n",
        "os.mkdir('Resized_FG_mask')\n",
        "%cd Resized_FG_mask\n"
      ],
      "execution_count": 30,
      "outputs": [
        {
          "output_type": "stream",
          "text": [
            "/content/Resized_FG_mask\n"
          ],
          "name": "stdout"
        }
      ]
    },
    {
      "cell_type": "code",
      "metadata": {
        "id": "2AQ0KTRLMWTY",
        "colab_type": "code",
        "colab": {}
      },
      "source": [
        "import cv2\n",
        "os.mkdir('fg_masked')\n",
        "\n",
        "i=0\n",
        "\n",
        "for img in glob.glob(inputFolder+\"/*.jpg\"):\n",
        "  image = cv2.imread(img)\n",
        "  imgrez=cv2.resize(image,(224,224))\n",
        "  cv2.imwrite('fg_masked/img%04i.jpg'%i,imgrez)\n",
        "  i+=1"
      ],
      "execution_count": 0,
      "outputs": []
    },
    {
      "cell_type": "code",
      "metadata": {
        "id": "yGfylzZZGRCz",
        "colab_type": "code",
        "colab": {
          "base_uri": "https://localhost:8080/",
          "height": 272
        },
        "outputId": "5261ff30-02fe-487b-f4d5-c619a1b66f30"
      },
      "source": [
        "dataset = torchvision.datasets.ImageFolder(root='/content/BG_FG',\n",
        "                                           transform = torchvision.transforms.ToTensor())\n",
        "loader = torch.utils.data.DataLoader(\n",
        "    dataset,\n",
        "    batch_size=1024,\n",
        "    num_workers=4,\n",
        "    shuffle=False,\n",
        "    pin_memory= True\n",
        ")\n",
        "\n",
        "mean = 0.0\n",
        "for data, _ in tqdm(loader, desc=\"Computing mean\"):\n",
        "    batch_samples = data.size(0)\n",
        "    # Flatten each channel\n",
        "    data = data.view(batch_samples, data.size(1), -1)\n",
        "    # Since the denominator (224*224) is constant, instead of doing sum first and\n",
        "    # then taking mean, we can directly take mean and sum it.\n",
        "    mean += data.mean(2).sum(0)\n",
        "\n",
        "mean /= len(loader.dataset)\n",
        "print(\"\\nMean: \", mean)\n",
        "\n",
        "std = 0.0\n",
        "for data, _ in tqdm(loader, desc=\"Computing std\"):\n",
        "    batch_samples = data.size(0)\n",
        "    # Flatten each channel\n",
        "    data = data.view(batch_samples, data.size(1), -1)\n",
        "    # Sum (x-mean)^2 per channel across all batches pixels\n",
        "    std += ((data - mean.unsqueeze(1))**2).sum([0,2])\n",
        "\n",
        "std = torch.sqrt(std / (len(loader.dataset)*224*224))\n",
        "print(\"\\nStd: \", std)"
      ],
      "execution_count": 39,
      "outputs": [
        {
          "output_type": "stream",
          "text": [
            "\n",
            "Computing mean:   0%|          | 0/4 [00:00<?, ?it/s]\u001b[A\n",
            "Computing mean:  25%|██▌       | 1/4 [00:08<00:25,  8.52s/it]\u001b[A\n",
            "Computing mean:  50%|█████     | 2/4 [00:08<00:12,  6.11s/it]\u001b[A\n",
            "Computing mean: 100%|██████████| 4/4 [00:09<00:00,  2.33s/it]\n",
            "\n",
            "Computing std:   0%|          | 0/4 [00:00<?, ?it/s]\u001b[A"
          ],
          "name": "stderr"
        },
        {
          "output_type": "stream",
          "text": [
            "\n",
            "Mean:  tensor([0.1727, 0.1361, 0.1439])\n"
          ],
          "name": "stdout"
        },
        {
          "output_type": "stream",
          "text": [
            "\n",
            "Computing std:  25%|██▌       | 1/4 [00:09<00:28,  9.58s/it]\u001b[A\n",
            "Computing std:  50%|█████     | 2/4 [00:09<00:13,  6.81s/it]\u001b[A\n",
            "Computing std:  75%|███████▌  | 3/4 [00:10<00:04,  4.87s/it]\u001b[A\n",
            "Computing std: 100%|██████████| 4/4 [00:10<00:00,  2.68s/it]"
          ],
          "name": "stderr"
        },
        {
          "output_type": "stream",
          "text": [
            "\n",
            "Std:  tensor([0.1907, 0.1712, 0.1576])\n"
          ],
          "name": "stdout"
        },
        {
          "output_type": "stream",
          "text": [
            "\n"
          ],
          "name": "stderr"
        }
      ]
    },
    {
      "cell_type": "code",
      "metadata": {
        "id": "UNfbIbm8HMw2",
        "colab_type": "code",
        "colab": {}
      },
      "source": [
        ""
      ],
      "execution_count": 0,
      "outputs": []
    }
  ]
}